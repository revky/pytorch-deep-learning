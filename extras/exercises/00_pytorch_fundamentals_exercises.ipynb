{
 "nbformat": 4,
 "nbformat_minor": 0,
 "metadata": {
  "colab": {
   "name": "00_pytorch_fundamentals_exercises.ipynb",
   "provenance": [],
   "collapsed_sections": []
  },
  "kernelspec": {
   "name": "python3",
   "display_name": "Python 3"
  },
  "language_info": {
   "name": "python"
  },
  "accelerator": "GPU"
 },
 "cells": [
  {
   "cell_type": "markdown",
   "source": [
    "# 00. PyTorch Fundamentals Exercises\n",
    "\n",
    "### 1. Documentation reading \n",
    "\n",
    "A big part of deep learning (and learning to code in general) is getting familiar with the documentation of a certain framework you're using. We'll be using the PyTorch documentation a lot throughout the rest of this course. So I'd recommend spending 10-minutes reading the following (it's okay if you don't get some things for now, the focus is not yet full understanding, it's awareness):\n",
    "  * The documentation on [`torch.Tensor`](https://pytorch.org/docs/stable/tensors.html#torch-tensor).\n",
    "  * The documentation on [`torch.cuda`](https://pytorch.org/docs/master/notes/cuda.html#cuda-semantics).\n",
    "\n"
   ],
   "metadata": {
    "id": "AzDBM_v4iMe7"
   }
  },
  {
   "cell_type": "code",
   "source": [
    "# No code solution (reading)\n",
    "import torch"
   ],
   "metadata": {
    "id": "bGD0oD8Kizak"
   },
   "execution_count": 279,
   "outputs": []
  },
  {
   "cell_type": "code",
   "execution_count": 280,
   "outputs": [],
   "source": [
    "X1 = torch.tensor(\n",
    "    [\n",
    "        [9, 6],\n",
    "        [3, 7],\n",
    "        [2, 1]\n",
    "    ],\n",
    "    dtype=torch.float16,\n",
    "    device='cuda'\n",
    ")"
   ],
   "metadata": {
    "collapsed": false
   }
  },
  {
   "cell_type": "code",
   "execution_count": 281,
   "outputs": [],
   "source": [
    "X2 = torch.tensor(\n",
    "    [\n",
    "        [1,4, 6],\n",
    "        [1,4, 6]\n",
    "    ],\n",
    "    dtype=torch.float16,\n",
    "    device='cuda'\n",
    ")"
   ],
   "metadata": {
    "collapsed": false
   }
  },
  {
   "cell_type": "code",
   "execution_count": 282,
   "outputs": [
    {
     "data": {
      "text/plain": "tensor([[9., 6.],\n        [3., 7.],\n        [2., 1.]], device='cuda:0', dtype=torch.float16)"
     },
     "execution_count": 282,
     "metadata": {},
     "output_type": "execute_result"
    }
   ],
   "source": [
    "X1"
   ],
   "metadata": {
    "collapsed": false
   }
  },
  {
   "cell_type": "code",
   "execution_count": 283,
   "outputs": [
    {
     "data": {
      "text/plain": "tensor([[1., 4., 6.],\n        [1., 4., 6.]], device='cuda:0', dtype=torch.float16)"
     },
     "execution_count": 283,
     "metadata": {},
     "output_type": "execute_result"
    }
   ],
   "source": [
    "X2"
   ],
   "metadata": {
    "collapsed": false
   }
  },
  {
   "cell_type": "code",
   "execution_count": 284,
   "outputs": [
    {
     "name": "stdout",
     "output_type": "stream",
     "text": [
      "torch.Size([3, 2]) torch.Size([2, 3])\n"
     ]
    }
   ],
   "source": [
    "print(X1.shape, X2.shape)"
   ],
   "metadata": {
    "collapsed": false
   }
  },
  {
   "cell_type": "code",
   "execution_count": 285,
   "outputs": [
    {
     "data": {
      "text/plain": "tensor([[15., 60., 90.],\n        [10., 40., 60.],\n        [ 3., 12., 18.]], device='cuda:0', dtype=torch.float16)"
     },
     "execution_count": 285,
     "metadata": {},
     "output_type": "execute_result"
    }
   ],
   "source": [
    "torch.mm(X1,X2)"
   ],
   "metadata": {
    "collapsed": false
   }
  },
  {
   "cell_type": "code",
   "execution_count": 286,
   "outputs": [
    {
     "data": {
      "text/plain": "tensor([[15., 60., 90.],\n        [10., 40., 60.],\n        [ 3., 12., 18.]], device='cuda:0', dtype=torch.float16)"
     },
     "execution_count": 286,
     "metadata": {},
     "output_type": "execute_result"
    }
   ],
   "source": [
    "X1 @ X2"
   ],
   "metadata": {
    "collapsed": false
   }
  },
  {
   "cell_type": "markdown",
   "source": [
    "### 2. Create a random tensor with shape `(7, 7)`.\n"
   ],
   "metadata": {
    "id": "__iXqqz-ioUJ"
   }
  },
  {
   "cell_type": "code",
   "source": [
    "# Import torch\n",
    "\n",
    "\n",
    "# Create random tensor\n",
    "tensor_2 = torch.rand(7,7)\n",
    "tensor_2"
   ],
   "metadata": {
    "id": "6pUq9Dc8i2L7"
   },
   "execution_count": 288,
   "outputs": [
    {
     "data": {
      "text/plain": "tensor([[0.8866, 0.2997, 0.6329, 0.6164, 0.0562, 0.3922, 0.2823],\n        [0.7519, 0.8442, 0.7106, 0.3314, 0.8299, 0.6466, 0.4240],\n        [0.4415, 0.4576, 0.5639, 0.9992, 0.7985, 0.7247, 0.8608],\n        [0.6405, 0.1202, 0.1931, 0.0465, 0.3040, 0.4827, 0.4850],\n        [0.0036, 0.2199, 0.9126, 0.1490, 0.9177, 0.8823, 0.4940],\n        [0.8631, 0.3939, 0.9699, 0.7821, 0.6495, 0.0792, 0.4390],\n        [0.1384, 0.3831, 0.2257, 0.4526, 0.6579, 0.4438, 0.4430]])"
     },
     "execution_count": 288,
     "metadata": {},
     "output_type": "execute_result"
    }
   ]
  },
  {
   "cell_type": "markdown",
   "source": [
    "### 3. Perform a matrix multiplication on the tensor from 2 with another random tensor with shape `(1, 7)` (hint: you may have to transpose the second tensor)."
   ],
   "metadata": {
    "id": "9-XxvRLfiqkR"
   }
  },
  {
   "cell_type": "code",
   "source": [
    "# Create another random tensor\n",
    "tensor_3 = torch.rand(1,7)\n",
    "\n",
    "# Perform matrix multiplication \n",
    "torch.mm(tensor_2,tensor_3.T)"
   ],
   "metadata": {
    "id": "NcLqR0Sbi_vT"
   },
   "execution_count": 290,
   "outputs": [
    {
     "data": {
      "text/plain": "tensor([[2.0260],\n        [2.0256],\n        [2.4786],\n        [1.2702],\n        [1.3171],\n        [2.5890],\n        [1.1526]])"
     },
     "execution_count": 290,
     "metadata": {},
     "output_type": "execute_result"
    }
   ]
  },
  {
   "cell_type": "markdown",
   "source": [
    "### 4. Set the random seed to `0` and do 2 & 3 over again.\n",
    "\n",
    "The output should be:\n",
    "```\n",
    "(tensor([[1.8542],\n",
    "         [1.9611],\n",
    "         [2.2884],\n",
    "         [3.0481],\n",
    "         [1.7067],\n",
    "         [2.5290],\n",
    "         [1.7989]]), torch.Size([7, 1]))\n",
    "```"
   ],
   "metadata": {
    "id": "eiutdKUFiryU"
   }
  },
  {
   "cell_type": "code",
   "source": [
    "# Set manual seed\n",
    "torch.manual_seed(0)\n",
    "\n",
    "# Create two random tensors\n",
    "tensor_2 = torch.rand(7,7)\n",
    "tensor_3 = torch.rand(1,7)\n",
    "\n",
    "# Perform matrix multiplication\n",
    "torch.mm(tensor_2,tensor_3.T)"
   ],
   "metadata": {
    "id": "D-lOWI_1jRMm"
   },
   "execution_count": 291,
   "outputs": [
    {
     "data": {
      "text/plain": "tensor([[1.8542],\n        [1.9611],\n        [2.2884],\n        [3.0481],\n        [1.7067],\n        [2.5290],\n        [1.7989]])"
     },
     "execution_count": 291,
     "metadata": {},
     "output_type": "execute_result"
    }
   ]
  },
  {
   "cell_type": "markdown",
   "source": [
    "### 5. Speaking of random seeds, we saw how to set it with `torch.manual_seed()` but is there a GPU equivalent? (hint: you'll need to look into the documentation for `torch.cuda` for this one)\n",
    "  * If there is, set the GPU random seed to `1234`."
   ],
   "metadata": {
    "id": "ezY6ks9Cis37"
   }
  },
  {
   "cell_type": "code",
   "source": [
    "# Set random seed on the GPU\n",
    "torch.cuda.manual_seed(1234)"
   ],
   "metadata": {
    "id": "_LKWcfSTjp00"
   },
   "execution_count": 297,
   "outputs": []
  },
  {
   "cell_type": "markdown",
   "source": [
    "\n",
    "### 6. Create two random tensors of shape `(2, 3)` and send them both to the GPU (you'll need access to a GPU for this). Set `torch.manual_seed(1234)` when creating the tensors (this doesn't have to be the GPU random seed). The output should be something like:\n",
    "\n",
    "```\n",
    "Device: cuda\n",
    "(tensor([[0.0290, 0.4019, 0.2598],\n",
    "         [0.3666, 0.0583, 0.7006]], device='cuda:0'),\n",
    " tensor([[0.0518, 0.4681, 0.6738],\n",
    "         [0.3315, 0.7837, 0.5631]], device='cuda:0'))\n",
    "```"
   ],
   "metadata": {
    "id": "Ir9qSaj6it4n"
   }
  },
  {
   "cell_type": "code",
   "source": [
    "# Set random seed\n",
    "torch.manual_seed(1234)\n",
    "\n",
    "# Check for access to GPU\n",
    "device = 'cuda' if torch.cuda.is_available() else 'cpu'\n",
    "\n",
    "# Create two random tensors on GPU\n",
    "tensor_6 = torch.rand(2,3, device=device)\n",
    "tensor_7 = torch.rand(2,3, device=device)"
   ],
   "metadata": {
    "id": "azXExiFZj5nm"
   },
   "execution_count": 300,
   "outputs": []
  },
  {
   "cell_type": "markdown",
   "source": [
    "\n",
    "### 7. Perform a matrix multiplication on the tensors you created in 6 (again, you may have to adjust the shapes of one of the tensors).\n",
    "\n",
    "The output should look like:\n",
    "```\n",
    "(tensor([[0.3647, 0.4709],\n",
    "         [0.5184, 0.5617]], device='cuda:0'), torch.Size([2, 2]))\n",
    "```"
   ],
   "metadata": {
    "id": "5TlAxeiSiu1y"
   }
  },
  {
   "cell_type": "code",
   "source": [
    "# Perform matmul on tensor_A and tensor_B\n",
    "tensor_7 = torch.mm(tensor_6, tensor_7.T)"
   ],
   "metadata": {
    "id": "fAeG7ox0lHEO"
   },
   "execution_count": 303,
   "outputs": []
  },
  {
   "cell_type": "markdown",
   "source": [
    "### 8. Find the maximum and minimum values of the output of 7."
   ],
   "metadata": {
    "id": "G7qfa5CSivwg"
   }
  },
  {
   "cell_type": "code",
   "source": [
    "# Find max\n",
    "tensor_7.max()\n",
    "\n",
    "# Find min\n",
    "tensor_7.min()"
   ],
   "metadata": {
    "id": "Fu8_3mZpllOd"
   },
   "execution_count": 305,
   "outputs": [
    {
     "data": {
      "text/plain": "tensor(0.2786, device='cuda:0')"
     },
     "execution_count": 305,
     "metadata": {},
     "output_type": "execute_result"
    }
   ]
  },
  {
   "cell_type": "markdown",
   "source": [
    "### 9. Find the maximum and minimum index values of the output of 7."
   ],
   "metadata": {
    "id": "wrTj5FgNiw47"
   }
  },
  {
   "cell_type": "code",
   "source": [
    "# Find arg max\n",
    "tensor_7.argmax()\n",
    "\n",
    "# Find arg min\n",
    "tensor_7.argmin()"
   ],
   "metadata": {
    "id": "CCEKt4K2lsfQ"
   },
   "execution_count": 307,
   "outputs": [
    {
     "data": {
      "text/plain": "tensor(0, device='cuda:0')"
     },
     "execution_count": 307,
     "metadata": {},
     "output_type": "execute_result"
    }
   ]
  },
  {
   "cell_type": "markdown",
   "source": [
    "\n",
    "### 10. Make a random tensor with shape `(1, 1, 1, 10)` and then create a new tensor with all the `1` dimensions removed to be left with a tensor of shape `(10)`. Set the seed to `7` when you create it and print out the first tensor and it's shape as well as the second tensor and it's shape.\n",
    "\n",
    "The output should look like:\n",
    "\n",
    "```\n",
    "tensor([[[[0.5349, 0.1988, 0.6592, 0.6569, 0.2328, 0.4251, 0.2071, 0.6297,\n",
    "           0.3653, 0.8513]]]]) torch.Size([1, 1, 1, 10])\n",
    "tensor([0.5349, 0.1988, 0.6592, 0.6569, 0.2328, 0.4251, 0.2071, 0.6297, 0.3653,\n",
    "        0.8513]) torch.Size([10])\n",
    "```"
   ],
   "metadata": {
    "id": "hmeybz4uixy7"
   }
  },
  {
   "cell_type": "code",
   "source": [
    "# Set seed\n",
    "torch.manual_seed(7)\n",
    "\n",
    "# Create random tensor\n",
    "tensor_10 = torch.rand((1,1,1,10))\n",
    "\n",
    "# Remove single dimensions\n",
    "tensor_10s = tensor_10.squeeze()\n",
    "\n",
    "# Print out tensors and their shapes\n",
    "tensor_10s.shape, tensor_10.shape"
   ],
   "metadata": {
    "id": "TQ9zbRzVl1jV"
   },
   "execution_count": 312,
   "outputs": [
    {
     "data": {
      "text/plain": "(torch.Size([10]), torch.Size([1, 1, 1, 10]))"
     },
     "execution_count": 312,
     "metadata": {},
     "output_type": "execute_result"
    }
   ]
  },
  {
   "cell_type": "code",
   "execution_count": null,
   "outputs": [],
   "source": [],
   "metadata": {
    "collapsed": false
   }
  }
 ]
}
